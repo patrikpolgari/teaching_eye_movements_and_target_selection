{
 "cells": [
  {
   "attachments": {},
   "cell_type": "markdown",
   "id": "995b1e6f-f5a3-4f40-84f4-221d39e75218",
   "metadata": {},
   "source": [
    "<font size=7>Saliency model<font>\n",
    "\n",
    "<font size=3>In this task, you will find the analysis of the 40 images with a saliency model *(Itti et al, 1998)*. The bottom line shows the individual feature maps (color, intensity and orientation), the top line shows the original image and the combined saliency map. The color scale shows the z-standardized salience values (blue = low and yellow = high).\n",
    "\n",
    "<font size=3>•\tAssign the labels **color**, **intensity** and **orientation** to the three feature maps. Give examples to illustrate the assignment.\n",
    "\n",
    "<font size=3>•\tDo you recognize a connection between the individual features? \n",
    "\n",
    "<font size=3>•\tAre there pictures where individual features have a stronger influence?"
   ]
  },
  {
   "cell_type": "markdown",
   "id": "cff640a3-46e4-4600-bf62-a8d098f94704",
   "metadata": {},
   "source": [
    "  "
   ]
  },
  {
   "cell_type": "code",
   "execution_count": 8,
   "id": "0abff81f-cea3-4b10-b990-18b7ff4b6a67",
   "metadata": {
    "jupyter": {
     "source_hidden": true
    }
   },
   "outputs": [],
   "source": [
    "import os\n",
    "#from ipywidgets import interact, Button\n",
    "import ipywidgets as widgets\n",
    "from IPython.display import display, Image, HTML\n",
    "import warnings\n",
    "warnings.filterwarnings('ignore')\n",
    "\n",
    "# Path to the folder containing PNG images\n",
    "IMAGE_FOLDER = 'images_task_D'\n",
    "\n",
    "# Get a list of PNG image files in the folder\n",
    "image_files = [f for f in os.listdir(IMAGE_FOLDER) if f.endswith('.png')]"
   ]
  },
  {
   "cell_type": "code",
   "execution_count": 9,
   "id": "ffce165d-1c5e-4b11-aa59-753e1925f41e",
   "metadata": {
    "jupyter": {
     "source_hidden": true
    }
   },
   "outputs": [
    {
     "data": {
      "application/vnd.jupyter.widget-view+json": {
       "model_id": "5675f229f2304dcab2b7e40bd17ecd43",
       "version_major": 2,
       "version_minor": 0
      },
      "text/plain": [
       "interactive(children=(Dropdown(description='file_name', options=('1614_sal.png', '1544_sal.png', '1526_sal.png…"
      ]
     },
     "metadata": {},
     "output_type": "display_data"
    }
   ],
   "source": [
    "# Function to display selected image\n",
    "def show_image(file_name):\n",
    "    image_path = os.path.join(IMAGE_FOLDER, file_name)\n",
    "    display(Image(filename=image_path))\n",
    "    #return Image(filename=image_path)\n",
    "\n",
    "# Create the widget\n",
    "w=widgets.interact(show_image, file_name=image_files);"
   ]
  },
  {
   "cell_type": "code",
   "execution_count": 10,
   "id": "38414158-5071-40ac-aeb8-541ef0d795f5",
   "metadata": {
    "jupyter": {
     "source_hidden": true
    }
   },
   "outputs": [],
   "source": [
    "#prev_button=widgets.Button(description='Prev',\n",
    "#                          icon='backward',\n",
    "#                          layout=widgets.Layout(width='80%', height='30%'))\n",
    "#next_button=widgets.Button(description='Next',\n",
    "#                          icon='forward',\n",
    "#                          layout=widgets.Layout(width='80%', height='30%'))\n",
    "\n",
    "#image= widgets.interact(show_image, file_name=image_files);\n",
    "#widgets.AppLayout(header=None,\n",
    "#          left_sidebar=prev_button,\n",
    "#          center=image,\n",
    "#          right_sidebar=next_button,\n",
    "#          footer=None,\n",
    "#          grid_gap='20px',\n",
    "#          justify_items='center',\n",
    "#          align_items='center')"
   ]
  }
 ],
 "metadata": {
  "kernelspec": {
   "display_name": "Python 3 (ipykernel)",
   "language": "python",
   "name": "python3"
  },
  "language_info": {
   "codemirror_mode": {
    "name": "ipython",
    "version": 3
   },
   "file_extension": ".py",
   "mimetype": "text/x-python",
   "name": "python",
   "nbconvert_exporter": "python",
   "pygments_lexer": "ipython3",
   "version": "3.10.13"
  },
  "widgets": {
   "application/vnd.jupyter.widget-state+json": {
    "state": {
     "undefined": {
      "model_module": "jupyter-vuetify",
      "model_module_version": "2.0.0",
      "model_name": "ThemeModel",
      "state": {
       "_view_name": "ErrorWidgetView",
       "error": {},
       "msg": "Failed to load model class 'ThemeModel' from module 'jupyter-vuetify'"
      }
     }
    },
    "version_major": 2,
    "version_minor": 0
   }
  }
 },
 "nbformat": 4,
 "nbformat_minor": 5
}
