{
 "cells": [
  {
   "cell_type": "markdown",
   "id": "102a9d69-c079-40b6-9b50-40f75a8bc2d7",
   "metadata": {},
   "source": [
    "<font size=7> Eye movement measurement in our lab<font>\n"
   ]
  },
  {
   "cell_type": "markdown",
   "id": "b238e52e-e095-4455-99a9-6ec590745a1e",
   "metadata": {},
   "source": [
    "In lab 01064 (1st floor), parallel to task B"
   ]
  },
  {
   "cell_type": "markdown",
   "id": "ab995ed2-73f3-4f0f-996b-a6bd1f604579",
   "metadata": {},
   "source": [
    "<font size=3>For the following tasks (C-H), we will use 40 images of natural scenes (selected by *Linka & de Haas (2020)* from a larger set by *Xu et al. (2014)*. You will first look at these images while your eye movements are recorded and then analyze your own data in more detail in the subsequent tasks.\n",
    "\n",
    "<font size=3>We will first go to the lab in groups of two to try out the operation of our eye-tracking (Eyelink 1000+, SR Research Ltd.) and record our own eye movements."
   ]
  },
  {
   "cell_type": "markdown",
   "id": "a9750c21-9b58-45a2-bdbb-fabf2f3bcf5f",
   "metadata": {},
   "source": [
    "   "
   ]
  },
  {
   "cell_type": "markdown",
   "id": "211cfde0-7174-4d99-8b26-64b3eb854d52",
   "metadata": {},
   "source": [
    "<font size=3>•\tDescribe the steps required to set up the eye-tracking device on a test subject before the measurement can begin.\n",
    "\n",
    "<font size=3>•\tDid you notice anything during the experiment or when looking at the pictures?"
   ]
  }
 ],
 "metadata": {
  "kernelspec": {
   "display_name": "Python 3 (ipykernel)",
   "language": "python",
   "name": "python3"
  },
  "language_info": {
   "codemirror_mode": {
    "name": "ipython",
    "version": 3
   },
   "file_extension": ".py",
   "mimetype": "text/x-python",
   "name": "python",
   "nbconvert_exporter": "python",
   "pygments_lexer": "ipython3",
   "version": "3.10.13"
  },
  "widgets": {
   "application/vnd.jupyter.widget-state+json": {
    "state": {},
    "version_major": 2,
    "version_minor": 0
   }
  }
 },
 "nbformat": 4,
 "nbformat_minor": 5
}
