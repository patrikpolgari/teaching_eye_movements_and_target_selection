{
 "cells": [
  {
   "cell_type": "markdown",
   "id": "e98ce9d8-3e17-43ae-80da-71d9189175d7",
   "metadata": {},
   "source": [
    "<font size=7>Worksheet B-NP2-Übung: Eye tracking<font>"
   ]
  },
  {
   "attachments": {},
   "cell_type": "markdown",
   "id": "78247e63-9de1-4715-a63d-12ba96eb0f4a",
   "metadata": {},
   "source": [
    "<font size=5>Instructions<font size=5>\n",
    "\n",
    "<font size=3>Please create an independent report of the exercise for the portfolio, labeled with your name and participant number. You should formulate the answers in full sentences and insert pictures for illustration in suitable places.\n"
   ]
  },
  {
   "cell_type": "markdown",
   "id": "ead0772d-bdec-49a1-b18a-29a7a6628132",
   "metadata": {},
   "source": [
    "<font size =5> Key questions <font>\n",
    "    \n",
    "<font size=3>•\tWhat methods are there to measure eye movements? What are the advantages and disadvantages of each?\n",
    "\n",
    "<font size=3>•\tHow is our eye movement measuring device operated?\n",
    "\n",
    "<font size=3>•\tWhat data comes out of the eye-tracking device? \n",
    "How is this data processed?\n",
    "\n",
    "<font size=3>•\tHow is the selection of eye movement targets controlled? What influence do salience and object categories have?\n",
    "\n",
    "\n",
    "    \n",
    "<font size=3>**Literature** \\\n",
    "<font size=3>Linka, M., & de Haas, B. (2020). OSIEshort: A small stimulus set can reliably estimate individual differences in semantic salience. Journal of Vision, 20(9), 13-13. \\\n",
    "Walther, D., & Koch, C. (2006). Modeling attention to salient proto-objects. Neural networks, 19(9), 1395-1407.\\\n",
    "Xu, J., Jiang, M., Wang, S., Kankanhalli, M. S., & Zhao, Q. (2014). Predicting human gaze beyond pixels. Journal of Vision, 14(1), 28-28.\n"
   ]
  },
  {
   "cell_type": "markdown",
   "id": "83b2fb55-6438-46be-8cff-48ae4e3e3d54",
   "metadata": {},
   "source": [
    "   "
   ]
  },
  {
   "attachments": {},
   "cell_type": "markdown",
   "id": "b8ce762c-9eaa-443e-bfdd-a4f9bca58f08",
   "metadata": {},
   "source": [
    "<font size=5>Index<font>\n",
    "\n",
    "<font size= 3>[Task A](Task_A.ipynb) (45 min, until 11:00)\\\n",
    "**Methods for measuring eye movements**\n",
    "\n",
    "<font size= 3>[Task B](Task_B.ipynb) (120 min, until 13:00)\\\n",
    "**Pre-processing of eye movement data and detection of saccades** \n",
    "\n",
    "<font size= 3>[Task C](Task_C.ipynb) (01064, parallel to Task B)\\\n",
    "**Eye movement measurement in our lab**\n",
    "\n",
    "- - -\n",
    "<font size= 3>*Lunch break (60 min, until 14:00)*\n",
    "- - -\n",
    "\n",
    "<font size= 3>[Task D](Task_D.ipynb) (30 min, until 14:30)\\\n",
    "**Saliency model**\n",
    "\n",
    "<font size= 3>[Task E](Task_E.ipynb) (30 min, until 15:00)\\\n",
    "**Semantic object categories**\n",
    "\n",
    "<font size= 3>[Task F](Task_F.ipynb) (60 min, until 16:00)\\\n",
    "**Own scan path and individual preference for saliency features and object categories**\n",
    "\n",
    "<font size= 3>[Task G](Task_G.ipynb) (60 min, until 17:00)\\\n",
    "**Comparison with the whole group**\n",
    "\n",
    "<font size= 3>[Task H](Task_H.ipynb) (60 min, until 18:00)\\\n",
    "**Reliability of the salience features and object categories**\n"
   ]
  }
 ],
 "metadata": {
  "kernelspec": {
   "display_name": "Python 3 (ipykernel)",
   "language": "python",
   "name": "python3"
  },
  "language_info": {
   "codemirror_mode": {
    "name": "ipython",
    "version": 3
   },
   "file_extension": ".py",
   "mimetype": "text/x-python",
   "name": "python",
   "nbconvert_exporter": "python",
   "pygments_lexer": "ipython3",
   "version": "3.10.13"
  },
  "widgets": {
   "application/vnd.jupyter.widget-state+json": {
    "state": {},
    "version_major": 2,
    "version_minor": 0
   }
  }
 },
 "nbformat": 4,
 "nbformat_minor": 5
}
