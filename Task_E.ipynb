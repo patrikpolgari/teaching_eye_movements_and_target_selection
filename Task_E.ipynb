{
 "cells": [
  {
   "cell_type": "markdown",
   "id": "7a5918df-f84e-4aaf-97ef-7b8613cd4fdf",
   "metadata": {},
   "source": [
    "<font size=7>Semantic object categories<font>\n",
    "\n",
    "<font size=3>In this task, you will find masks for various semantic object categories (<b>touched</b>, <b>movement</b>, <b>taste</b>, <b>faces</b> and <b>text</b>) from *Xu et al. (2014)* for the 40 images.\n",
    "\n",
    "<font size=3>•\tAssign the labels **touched**, **movement**, **taste**, **faces** and **text** to the five masks. Give examples to illustrate the assignment.\n",
    "\n",
    "<font size=3>•\tWhich categories can be clearly assigned? Where are there overlaps?\n",
    "\n",
    "<font size=3>•\tAre there cases in which the masks are not clearly comprehensible or contain errors?\n"
   ]
  },
  {
   "cell_type": "code",
   "execution_count": 19,
   "id": "7603b7cc-3e33-4d30-9402-0394a2112807",
   "metadata": {
    "jupyter": {
     "source_hidden": true
    }
   },
   "outputs": [],
   "source": [
    "import os\n",
    "import ipywidgets as widgets\n",
    "from IPython.display import display, Image, HTML\n",
    "import warnings\n",
    "warnings.filterwarnings('ignore')\n",
    "\n",
    "# Path to the folder containing PNG images\n",
    "IMAGE_FOLDER = 'images_task_E'\n",
    "\n",
    "# Get a list of PNG image files in the folder\n",
    "image_files = [f for f in os.listdir(IMAGE_FOLDER) if f.endswith('.jpg')]"
   ]
  },
  {
   "cell_type": "code",
   "execution_count": 20,
   "id": "c3c841c6-1f98-4cb1-8549-de88f285d2c5",
   "metadata": {
    "jupyter": {
     "source_hidden": true
    }
   },
   "outputs": [
    {
     "data": {
      "application/vnd.jupyter.widget-view+json": {
       "model_id": "1d26a59d1d1f4a3e8b9587a806963509",
       "version_major": 2,
       "version_minor": 0
      },
      "text/plain": [
       "interactive(children=(Dropdown(description='file_name', options=('1277_sem.jpg', '1101_sem.jpg', '1543_sem.jpg…"
      ]
     },
     "metadata": {},
     "output_type": "display_data"
    }
   ],
   "source": [
    "# Function to display selected image\n",
    "def show_image(file_name):\n",
    "    image_path = os.path.join(IMAGE_FOLDER, file_name)\n",
    "    display(Image(filename=image_path,unconfined=False))\n",
    "    #return Image(filename=image_path)\n",
    "\n",
    "# Create the widget\n",
    "w=widgets.interact(show_image, file_name=image_files);"
   ]
  }
 ],
 "metadata": {
  "kernelspec": {
   "display_name": "Python 3 (ipykernel)",
   "language": "python",
   "name": "python3"
  },
  "language_info": {
   "codemirror_mode": {
    "name": "ipython",
    "version": 3
   },
   "file_extension": ".py",
   "mimetype": "text/x-python",
   "name": "python",
   "nbconvert_exporter": "python",
   "pygments_lexer": "ipython3",
   "version": "3.10.13"
  },
  "widgets": {
   "application/vnd.jupyter.widget-state+json": {
    "state": {
     "undefined": {
      "model_module": "jupyter-vuetify",
      "model_module_version": "2.0.0",
      "model_name": "ThemeModel",
      "state": {
       "_view_name": "ErrorWidgetView",
       "error": {},
       "msg": "Failed to load model class 'ThemeModel' from module 'jupyter-vuetify'"
      }
     }
    },
    "version_major": 2,
    "version_minor": 0
   }
  }
 },
 "nbformat": 4,
 "nbformat_minor": 5
}
