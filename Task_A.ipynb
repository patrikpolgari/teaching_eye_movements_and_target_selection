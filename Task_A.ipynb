{
 "cells": [
  {
   "cell_type": "markdown",
   "id": "64657d68-ab56-4755-b5b6-7423a67b5729",
   "metadata": {},
   "source": [
    "<font size=7>Methods for measuring eye movements<font >"
   ]
  },
  {
   "cell_type": "markdown",
   "id": "96567280-1de4-4f1c-b253-4508c62b7a84",
   "metadata": {},
   "source": [
    "<font size=3>1. Together we will solve a puzzle about how different measurement methods differ from each other in terms of the measured signal, the spatial and temporal resolution and the resulting advantages and disadvantages.<font>\n",
    "\n",
    "<font size=3>2. Write a short essay (300-600 words) on which method you would like to use and justify your choice.<font>"
   ]
  }
 ],
 "metadata": {
  "kernelspec": {
   "display_name": "Python 3 (ipykernel)",
   "language": "python",
   "name": "python3"
  },
  "language_info": {
   "codemirror_mode": {
    "name": "ipython",
    "version": 3
   },
   "file_extension": ".py",
   "mimetype": "text/x-python",
   "name": "python",
   "nbconvert_exporter": "python",
   "pygments_lexer": "ipython3",
   "version": "3.10.13"
  },
  "widgets": {
   "application/vnd.jupyter.widget-state+json": {
    "state": {},
    "version_major": 2,
    "version_minor": 0
   }
  }
 },
 "nbformat": 4,
 "nbformat_minor": 5
}
